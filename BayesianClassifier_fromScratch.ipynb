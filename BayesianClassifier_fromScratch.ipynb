{
  "nbformat": 4,
  "nbformat_minor": 0,
  "metadata": {
    "colab": {
      "provenance": []
    },
    "kernelspec": {
      "name": "python3",
      "display_name": "Python 3"
    },
    "language_info": {
      "name": "python"
    }
  },
  "cells": [
    {
      "cell_type": "markdown",
      "source": [
        "# **Imports**"
      ],
      "metadata": {
        "id": "XV4SEsnwrFrW"
      }
    },
    {
      "cell_type": "code",
      "source": [
        "import math as M\n",
        "import pandas as pd\n",
        "from google.colab import drive\n",
        "import numpy as np\n",
        "import collections"
      ],
      "metadata": {
        "id": "rPqzs3EPrI0_"
      },
      "execution_count": null,
      "outputs": []
    },
    {
      "cell_type": "markdown",
      "source": [
        "# **Bayesian Classifier Functions:**"
      ],
      "metadata": {
        "id": "upvNExuIrp1X"
      }
    },
    {
      "cell_type": "markdown",
      "source": [
        "## **The Dataset Separation Function that separates any dataset bt its different Classes:**"
      ],
      "metadata": {
        "id": "Nf5-fd-wry2o"
      }
    },
    {
      "cell_type": "markdown",
      "source": [
        "**This function takes the dataset and the index of the Output (Class or Label) as arguments, and returns a dictionary for a new dataset that includes all data separated by Class**\n",
        "\n",
        "**This dictionary innludes all data samples as lists, and the indicies of the Dictionary are The Classes Numbers**"
      ],
      "metadata": {
        "id": "6xXN4lsEtp2O"
      }
    },
    {
      "cell_type": "code",
      "source": [
        "def SeparateClasses(DS,ClassIndx):\n",
        "\tDS_Separated = dict()\n",
        "\tfor i in range(len(DS)):\n",
        "\t\tvector = DS[i]\n",
        "\t\tClassNumber = vector[ClassIndx]\n",
        "\t\tif (ClassNumber not in DS_Separated):\n",
        "\t\t\tDS_Separated[ClassNumber] = list()\n",
        "\t\tDS_Separated[ClassNumber].append(vector)\n",
        "\treturn DS_Separated"
      ],
      "metadata": {
        "id": "NrgoM9WxuhMC"
      },
      "execution_count": null,
      "outputs": []
    },
    {
      "cell_type": "markdown",
      "source": [
        "## **Calculate Statistics for each Class in the dataset**\n",
        "\n",
        "**Mean Function and Standerd Deviation Function**"
      ],
      "metadata": {
        "id": "F-YPBK6JvCGw"
      }
    },
    {
      "cell_type": "code",
      "source": [
        "# Calculate the Mean of a list of Numbers\n",
        "def Mean(List):\n",
        "\treturn sum(List)/float(len(List))\n",
        "\n",
        "# Calculate the standard deviation of a list of List\n",
        "def StanderdDeviation(List):\n",
        "  avg = Mean(List)\n",
        "  if len(List)-1 == 0:\n",
        "    variance = sum([(x-avg)**2 for x in List]) / float(len(List))\n",
        "  else:\n",
        "    variance = sum([(x-avg)**2 for x in List]) / float(len(List)-1)\n",
        "  #\tvariance = sum([(x-avg)**2 for x in List]) / float(len(List)-1)\n",
        "\n",
        "  return M.sqrt(variance)"
      ],
      "metadata": {
        "id": "Bm_qEpN7vb8R"
      },
      "execution_count": null,
      "outputs": []
    },
    {
      "cell_type": "markdown",
      "source": [
        "##**The Prepare For Classification Function:**\n",
        "\n",
        "**This Function is gathering all of the values for each column into a list and calculating the mean and standard deviation on that list. Once calculated, All the statistics can ve gathered together into a list or tuple of statistics. Then, this process is repeated for each column in the dataset and return a list of tuples of statistics.**"
      ],
      "metadata": {
        "id": "BuEJf5oc3k4g"
      }
    },
    {
      "cell_type": "markdown",
      "source": [
        "**The zip() function will aggregate elements from each provided argument. It takes the dataset with the * operator as an argument, and takes the Index of the Output Column to delete it from the training data after calculating all means and standard deviations.**\n",
        "\n",
        "**The \"*\" Operator separates the dataset (that is a list of lists) into separate lists for each row. The zip() function then iterates over each element of each row and returns a column from the dataset as a list of numbers. A tuple is created from these 3 numbers and a list of these tuples is stored.**"
      ],
      "metadata": {
        "id": "Zt60QWab5PKl"
      }
    },
    {
      "cell_type": "code",
      "source": [
        "# Calculate the Mean, StanderdDeviation and count for each column in a DS\n",
        "def PrepareForClassification(DS,ClassesIndx):\n",
        "  DataStatistics = [(Mean(column), StanderdDeviation(column), len(column)) for column in zip(*DS)]\n",
        "  del(DataStatistics[ClassesIndx])\n",
        "  return DataStatistics"
      ],
      "metadata": {
        "id": "okoPKKcD6WGL"
      },
      "execution_count": null,
      "outputs": []
    },
    {
      "cell_type": "markdown",
      "source": [
        "## **The Final Separation Function**"
      ],
      "metadata": {
        "id": "OrlWJ5PR_v6y"
      }
    },
    {
      "cell_type": "markdown",
      "source": [
        "**This Function puts all of separated data and its calculated statistics together in a dataset organized by class values.**\n",
        "\n",
        "**This Funcrion returns a list of tuples of statistics are then stored in a dictionary by their class value.**"
      ],
      "metadata": {
        "id": "y7qPOSvo-tj9"
      }
    },
    {
      "cell_type": "code",
      "source": [
        "# Split DS by class then calculate statistics for each row\n",
        "def FinalSeparation(DS,ClassesIndx):\n",
        "\tDS_Separated = SeparateClasses(DS,ClassesIndx)\n",
        "\tDataStatistics = dict()\n",
        "\tfor ClassNumber, rows in DS_Separated.items():\n",
        "\t\tDataStatistics[ClassNumber] = PrepareForClassification(rows,ClassesIndx)\n",
        "\treturn DataStatistics"
      ],
      "metadata": {
        "id": "mUlIG1KU_3PX"
      },
      "execution_count": null,
      "outputs": []
    },
    {
      "cell_type": "markdown",
      "source": [
        "## **The Gaussian Probability Distribution Function:**"
      ],
      "metadata": {
        "id": "kSDh5j9A_7YO"
      }
    },
    {
      "cell_type": "markdown",
      "source": [
        "**This Function calculates the Gaussian probability distribution for any x.**"
      ],
      "metadata": {
        "id": "WMO9XZcSAKIa"
      }
    },
    {
      "cell_type": "code",
      "source": [
        "def GaussianProbability(x, mean, stdev):\n",
        "  if mean == 0:\n",
        "    exponent = 0;\n",
        "  elif stdev != 0:\n",
        "\t  exponent = M.exp(-((x-mean)**2 / (2 * stdev**2 )))\n",
        "  else:\n",
        "    exponent = M.exp(-((x-mean)**2 / (2 * mean**2 )))\n",
        "  return (1 / (M.sqrt(2 * M.pi) * 2)) * exponent"
      ],
      "metadata": {
        "id": "ulyciSyKB01N"
      },
      "execution_count": null,
      "outputs": []
    },
    {
      "cell_type": "markdown",
      "source": [
        "## **Finally!! The Classification Function:**"
      ],
      "metadata": {
        "id": "FWH_DyNIArna"
      }
    },
    {
      "cell_type": "markdown",
      "source": [
        "**This Function takes a prepared dataset and a test data as input arguments.**\n",
        "\n",
        "**All Statistics, and Probabilities are calculated for each input value in the row using the Gaussian probability density function and the statistics for that column and of that class. Probabilities are multiplied together as they accumulated.**\n",
        "\n",
        "**This process is repeated for each class in the dataset.**\n",
        "\n",
        "**This Function returns a dictionary of probabilities with one entry for each class.**"
      ],
      "metadata": {
        "id": "sk4NsytoBmBP"
      }
    },
    {
      "cell_type": "code",
      "source": [
        "# Calculate the Propabilities of predicting each class for a given Test Sample\n",
        "def Classify(DataStatistics, TestSample):\n",
        "\ttotal_TestSamples = sum([DataStatistics[label][0][-1] for label in DataStatistics])\n",
        "\tPropabilities = dict()\n",
        "\tfor ClassNumber, class_DataStatistics in DataStatistics.items():\n",
        "\t\tPropabilities[ClassNumber] = DataStatistics[ClassNumber][0][-1]/float(total_TestSamples)\n",
        "\t\tfor i in range(len(class_DataStatistics)):\n",
        "\t\t\tMean, StanderdDeviation, _ = class_DataStatistics[i]\n",
        "\t\t\tp = GaussianProbability(TestSample[i], Mean, StanderdDeviation)\n",
        "\t\t\tif p != 0 :Propabilities[ClassNumber] += M.log(p)\n",
        "\treturn Propabilities"
      ],
      "metadata": {
        "id": "grNtKv97CSTg"
      },
      "execution_count": null,
      "outputs": []
    },
    {
      "cell_type": "markdown",
      "source": [
        "# **Testing on MNIST Dataset:**"
      ],
      "metadata": {
        "id": "RO9AXCdTCY6Z"
      }
    },
    {
      "cell_type": "code",
      "source": [
        "drive.mount('/content/drive')\n",
        "mnist = pd.read_csv (\"/content/drive/MyDrive/ML_Project1/MNIST.csv\")\n",
        "data = np.array(mnist)\n",
        "m , n = data.shape\n",
        "data_development = data[0:1000] # the first 1000 rows for the development data.\n",
        "data_train = data[1000:m]\n",
        "data_trainL = data_train.tolist()\n",
        "data_developmentL = data_development.tolist()"
      ],
      "metadata": {
        "colab": {
          "base_uri": "https://localhost:8080/"
        },
        "id": "SdJT_gOJLbBP",
        "outputId": "2e61acad-1f05-4f74-8d36-4d7327dd4627"
      },
      "execution_count": null,
      "outputs": [
        {
          "output_type": "stream",
          "name": "stdout",
          "text": [
            "Drive already mounted at /content/drive; to attempt to forcibly remount, call drive.mount(\"/content/drive\", force_remount=True).\n"
          ]
        }
      ]
    },
    {
      "cell_type": "code",
      "source": [
        "DataStatistics = FinalSeparation(data_trainL,-1)"
      ],
      "metadata": {
        "id": "Uu5_SjfTGjv-"
      },
      "execution_count": null,
      "outputs": []
    },
    {
      "cell_type": "code",
      "source": [
        "Correct = 0;\n",
        "for i in range(len(data_development)):\n",
        "\n",
        "  Propabilities = Classify(DataStatistics, data_developmentL[i])\n",
        "  O_Propabilities = collections.OrderedDict(sorted(Propabilities.items()))\n",
        "  inverse = [(value, key) for key, value in O_Propabilities.items()]\n",
        "  Predicted = max(inverse)[1]\n",
        "  if Predicted == data_development[i,-1]: Correct+=1;"
      ],
      "metadata": {
        "id": "mdusHVpIMEtS"
      },
      "execution_count": null,
      "outputs": []
    },
    {
      "cell_type": "code",
      "source": [
        "Accuracy = 100* Correct / len(data_development)"
      ],
      "metadata": {
        "id": "BXDjrkx2NcrU"
      },
      "execution_count": null,
      "outputs": []
    },
    {
      "cell_type": "code",
      "source": [
        "print(\"Accuracy = \" ,Accuracy, \"%\")"
      ],
      "metadata": {
        "colab": {
          "base_uri": "https://localhost:8080/"
        },
        "id": "pLxv51_qNk0u",
        "outputId": "9557c041-a8c4-4b68-fb81-2b4374133093"
      },
      "execution_count": null,
      "outputs": [
        {
          "output_type": "stream",
          "name": "stdout",
          "text": [
            "Accuracy =  75.5 %\n"
          ]
        }
      ]
    },
    {
      "cell_type": "code",
      "source": [
        "data_development[:,-1]"
      ],
      "metadata": {
        "colab": {
          "base_uri": "https://localhost:8080/"
        },
        "id": "FOfRGZN_aDoA",
        "outputId": "d4304efb-b832-455f-800c-28fb05d26254"
      },
      "execution_count": null,
      "outputs": [
        {
          "output_type": "execute_result",
          "data": {
            "text/plain": [
              "array([1, 0, 1, 4, 0, 0, 7, 3, 5, 3, 8, 9, 1, 3, 3, 1, 2, 0, 7, 5, 8, 6,\n",
              "       2, 0, 2, 3, 6, 9, 9, 7, 8, 9, 4, 9, 2, 1, 3, 1, 1, 4, 9, 1, 4, 4,\n",
              "       2, 6, 3, 7, 7, 4, 7, 5, 1, 9, 0, 2, 2, 3, 9, 1, 1, 1, 5, 0, 6, 3,\n",
              "       4, 8, 1, 0, 3, 9, 6, 2, 6, 4, 7, 1, 4, 1, 5, 4, 8, 9, 2, 9, 9, 8,\n",
              "       9, 6, 3, 6, 4, 6, 2, 9, 1, 2, 0, 5, 9, 2, 7, 7, 2, 8, 8, 5, 0, 6,\n",
              "       0, 0, 2, 9, 0, 4, 7, 7, 1, 5, 7, 9, 4, 6, 1, 5, 7, 6, 5, 0, 4, 8,\n",
              "       7, 6, 1, 8, 7, 3, 7, 3, 1, 0, 3, 4, 5, 4, 0, 5, 4, 0, 3, 5, 1, 0,\n",
              "       8, 3, 7, 0, 9, 6, 6, 9, 5, 4, 6, 9, 3, 5, 4, 2, 4, 8, 7, 7, 5, 8,\n",
              "       8, 8, 2, 6, 9, 3, 1, 0, 4, 1, 5, 9, 0, 6, 2, 1, 3, 0, 6, 0, 0, 8,\n",
              "       3, 2, 0, 0, 6, 0, 0, 4, 7, 2, 7, 1, 9, 9, 3, 9, 8, 4, 6, 6, 5, 3,\n",
              "       8, 1, 8, 7, 1, 3, 7, 6, 3, 6, 3, 6, 3, 2, 3, 2, 2, 7, 9, 2, 3, 2,\n",
              "       7, 5, 5, 8, 8, 2, 0, 1, 4, 0, 6, 3, 7, 1, 1, 1, 4, 7, 0, 2, 9, 2,\n",
              "       0, 5, 6, 0, 8, 9, 6, 2, 0, 0, 7, 2, 0, 4, 2, 0, 9, 1, 6, 9, 3, 0,\n",
              "       0, 2, 0, 6, 8, 4, 0, 7, 2, 1, 9, 5, 2, 4, 8, 5, 2, 9, 7, 9, 2, 9,\n",
              "       7, 4, 9, 3, 2, 7, 3, 6, 3, 6, 8, 8, 3, 7, 0, 9, 2, 7, 9, 0, 5, 4,\n",
              "       5, 8, 4, 3, 3, 1, 7, 8, 9, 7, 6, 2, 1, 7, 0, 5, 6, 5, 2, 9, 5, 4,\n",
              "       6, 2, 2, 2, 9, 0, 7, 7, 2, 2, 6, 3, 4, 2, 0, 5, 9, 6, 2, 1, 9, 0,\n",
              "       6, 0, 4, 8, 4, 3, 1, 5, 4, 2, 9, 5, 7, 3, 1, 5, 4, 5, 3, 7, 3, 8,\n",
              "       6, 2, 4, 6, 1, 1, 4, 0, 0, 5, 8, 6, 7, 4, 2, 8, 0, 2, 5, 4, 8, 3,\n",
              "       0, 6, 4, 8, 6, 4, 1, 8, 1, 5, 4, 9, 4, 3, 2, 0, 5, 0, 7, 9, 2, 9,\n",
              "       8, 9, 6, 5, 2, 4, 4, 6, 4, 8, 4, 1, 7, 5, 8, 9, 5, 9, 3, 2, 5, 8,\n",
              "       2, 2, 7, 2, 8, 4, 1, 9, 3, 6, 0, 2, 2, 9, 1, 2, 7, 2, 1, 3, 4, 9,\n",
              "       1, 8, 0, 2, 2, 3, 4, 1, 3, 7, 4, 1, 4, 1, 5, 9, 6, 9, 0, 5, 7, 6,\n",
              "       8, 2, 0, 7, 3, 5, 8, 2, 8, 2, 4, 8, 5, 8, 9, 7, 1, 2, 4, 5, 5, 1,\n",
              "       8, 1, 4, 4, 6, 5, 8, 9, 2, 3, 0, 5, 1, 4, 0, 5, 1, 2, 9, 2, 4, 1,\n",
              "       6, 8, 0, 4, 9, 0, 0, 5, 9, 2, 3, 5, 9, 4, 4, 3, 9, 2, 3, 5, 6, 5,\n",
              "       2, 7, 2, 4, 2, 4, 7, 2, 5, 3, 7, 6, 1, 0, 7, 5, 4, 5, 1, 6, 9, 7,\n",
              "       1, 6, 3, 3, 1, 2, 2, 0, 5, 0, 6, 8, 3, 6, 7, 7, 3, 8, 1, 7, 9, 3,\n",
              "       9, 2, 8, 3, 7, 4, 1, 2, 3, 6, 5, 0, 1, 8, 6, 9, 2, 1, 6, 0, 2, 8,\n",
              "       0, 8, 8, 9, 1, 2, 2, 1, 4, 8, 1, 4, 4, 5, 1, 8, 7, 7, 9, 7, 0, 6,\n",
              "       9, 4, 5, 6, 2, 5, 7, 4, 7, 2, 3, 0, 8, 4, 8, 0, 0, 9, 7, 7, 9, 8,\n",
              "       2, 1, 6, 5, 5, 1, 1, 9, 7, 7, 8, 6, 4, 7, 5, 3, 1, 6, 4, 5, 7, 4,\n",
              "       1, 8, 3, 5, 1, 7, 1, 1, 8, 6, 4, 3, 8, 3, 1, 2, 8, 9, 0, 9, 1, 2,\n",
              "       3, 3, 0, 3, 0, 2, 0, 3, 3, 8, 3, 5, 7, 0, 5, 9, 0, 5, 9, 1, 5, 1,\n",
              "       1, 2, 6, 5, 5, 4, 5, 1, 6, 0, 2, 2, 8, 0, 7, 1, 0, 8, 5, 6, 3, 2,\n",
              "       9, 4, 3, 6, 0, 3, 4, 1, 5, 9, 3, 0, 5, 0, 6, 2, 7, 6, 6, 6, 9, 6,\n",
              "       7, 8, 2, 0, 6, 0, 8, 9, 5, 3, 6, 7, 4, 3, 9, 7, 2, 0, 4, 7, 2, 2,\n",
              "       8, 2, 7, 0, 4, 0, 5, 2, 8, 7, 7, 9, 1, 4, 0, 1, 1, 2, 3, 6, 2, 0,\n",
              "       6, 6, 1, 9, 4, 5, 2, 7, 7, 8, 9, 5, 8, 3, 8, 5, 6, 2, 0, 9, 7, 1,\n",
              "       8, 2, 6, 9, 8, 4, 9, 4, 1, 3, 8, 4, 0, 7, 7, 3, 7, 6, 6, 8, 8, 2,\n",
              "       7, 0, 4, 3, 7, 7, 0, 8, 4, 7, 4, 0, 6, 9, 8, 6, 0, 1, 6, 4, 5, 2,\n",
              "       7, 3, 6, 2, 2, 9, 2, 7, 4, 8, 7, 2, 9, 5, 3, 4, 8, 0, 4, 4, 6, 5,\n",
              "       6, 1, 2, 2, 8, 4, 5, 7, 8, 0, 6, 8, 9, 1, 7, 7, 2, 6, 3, 9, 9, 1,\n",
              "       0, 4, 2, 5, 4, 4, 9, 2, 6, 7, 2, 8, 3, 3, 2, 7, 0, 4, 7, 0, 7, 7,\n",
              "       8, 1, 7, 3, 7, 8, 0, 1, 0, 2, 9, 7, 6, 2, 2, 6, 9, 0, 6, 8, 8, 9,\n",
              "       6, 3, 5, 0, 2, 2, 5, 9, 6, 4])"
            ]
          },
          "metadata": {},
          "execution_count": 41
        }
      ]
    }
  ]
}